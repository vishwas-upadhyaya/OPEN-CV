{
 "cells": [
  {
   "cell_type": "code",
   "execution_count": 1,
   "metadata": {
    "collapsed": true
   },
   "outputs": [],
   "source": [
    "import cv2\n",
    "import numpy as np"
   ]
  },
  {
   "cell_type": "code",
   "execution_count": 3,
   "metadata": {},
   "outputs": [],
   "source": [
    "image=cv2.imread('catt.png',cv2.IMREAD_COLOR)\n",
    "\n",
    "cv2.line(image,(50,50),(350,50),(255,255,255),5,cv2.LINE_AA)\n",
    "\n",
    "cv2.rectangle(image,(250,250),(400,400),(0,250,125),5)\n",
    "\n",
    "cv2.circle(image,(200,203),100,(0,0,255),1)\n",
    "\n",
    "points=np.array([[4,5],[100,150],[230,67],[203,190]],np.int32)\n",
    "cv2.polylines(image,[points],True,(255,255,0),1)\n",
    "\n",
    "font=cv2.FONT_HERSHEY_COMPLEX_SMALL\n",
    "cv2.putText(image,'opencv part2',(0,130),font,1,(200,234,123),2,cv2.LINE_8)\n",
    "\n",
    "\n",
    "cv2.imshow('image',image)\n",
    "cv2.waitKey(0)\n",
    "cv2.destroyAllWindows()"
   ]
  },
  {
   "cell_type": "code",
   "execution_count": null,
   "metadata": {},
   "outputs": [],
   "source": []
  }
 ],
 "metadata": {
  "kernelspec": {
   "display_name": "Python 2",
   "language": "python",
   "name": "python2"
  },
  "language_info": {
   "codemirror_mode": {
    "name": "ipython",
    "version": 2
   },
   "file_extension": ".py",
   "mimetype": "text/x-python",
   "name": "python",
   "nbconvert_exporter": "python",
   "pygments_lexer": "ipython2",
   "version": "2.7.6"
  }
 },
 "nbformat": 4,
 "nbformat_minor": 0
}
