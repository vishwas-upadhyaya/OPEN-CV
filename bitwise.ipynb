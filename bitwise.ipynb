{
 "cells": [
  {
   "cell_type": "code",
   "execution_count": 74,
   "metadata": {
    "collapsed": true
   },
   "outputs": [],
   "source": [
    "import cv2\n",
    "import numpy as np"
   ]
  },
  {
   "cell_type": "code",
   "execution_count": 75,
   "metadata": {},
   "outputs": [
    {
     "name": "stdout",
     "output_type": "stream",
     "text": [
      "(250, 500, 3)\n"
     ]
    }
   ],
   "source": [
    "img1=np.zeros((250,500,3),np.uint8)\n",
    "img1=cv2.rectangle(img1,(200,0),(300,100),(255,255,255),-1)\n",
    "img2=np.zeros((250,500,3),np.uint8)\n",
    "img2=cv2.rectangle(img2,(250,0),(500,500),(255,255,255),-1)\n",
    "#img2=cv2.imread('catt.png')\n",
    "print(img1.shape)\n"
   ]
  },
  {
   "cell_type": "code",
   "execution_count": 76,
   "metadata": {},
   "outputs": [],
   "source": [
    "# img1=cv2.resize(img1,(512,512))\n",
    "# img2=cv2.resize(img2,(512,512))\n",
    "# print(img1[234,235],img2[234,235])"
   ]
  },
  {
   "cell_type": "code",
   "execution_count": 78,
   "metadata": {},
   "outputs": [
    {
     "name": "stdout",
     "output_type": "stream",
     "text": [
      "[0 0 0]\n"
     ]
    }
   ],
   "source": [
    "bitwise_or=cv2.bitwise_or(img1,img2)\n",
    "bitwise_xor=cv2.bitwise_xor(img1,img2)\n",
    "bitwise_not=cv2.bitwise_not(img1,img2)\n",
    "print(bitwise_or[234,235])\n",
    "cv2.imshow('img1',img1)\n",
    "cv2.imshow('img2',img2)\n",
    "cv2.imshow('bitwise_or',bitwise_or)\n",
    "cv2.imshow('bitwise_xor',bitwise_xor)\n",
    "cv2.imshow('bitwise_not',bitwise_not)\n",
    "cv2.waitKey(0)\n",
    "cv2.destroyAllWindows()"
   ]
  },
  {
   "cell_type": "code",
   "execution_count": null,
   "metadata": {},
   "outputs": [],
   "source": []
  }
 ],
 "metadata": {
  "kernelspec": {
   "display_name": "Python 2",
   "language": "python",
   "name": "python2"
  },
  "language_info": {
   "codemirror_mode": {
    "name": "ipython",
    "version": 2
   },
   "file_extension": ".py",
   "mimetype": "text/x-python",
   "name": "python",
   "nbconvert_exporter": "python",
   "pygments_lexer": "ipython2",
   "version": "2.7.6"
  }
 },
 "nbformat": 4,
 "nbformat_minor": 0
}
