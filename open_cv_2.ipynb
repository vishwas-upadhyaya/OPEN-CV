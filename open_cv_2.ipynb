{
 "cells": [
  {
   "cell_type": "code",
   "execution_count": 25,
   "metadata": {
    "collapsed": true
   },
   "outputs": [],
   "source": [
    "import cv2\n",
    "import numpy as np"
   ]
  },
  {
   "cell_type": "code",
   "execution_count": 26,
   "metadata": {},
   "outputs": [],
   "source": [
    "image_capture=cv2.VideoCapture(0)\n",
    "while True:\n",
    "    ret,frame=image_capture.read()\n",
    "    font=cv2.FONT_HERSHEY_COMPLEX_SMALL\n",
    "    cv2.putText(frame,'opencv part2',(0,130),font,1,(200,234,123),2,cv2.LINE_8)\n",
    "    cv2.imshow('frames',frame)\n",
    "    if cv2.waitKey(1) & 0xFF == ord('m'):\n",
    "        break\n",
    "image_capture.release()\n",
    "cv2.destroyAllWindows()"
   ]
  },
  {
   "cell_type": "code",
   "execution_count": 24,
   "metadata": {},
   "outputs": [],
   "source": [
    "# image_capture=cv2.VideoCapture(0)\n",
    "# folder=cv2.VideoWriter_fourcc(*'XVID')\n",
    "# out=cv2.VideoWriter('output.mp4',folder,20.0,(640,480))\n",
    "# while True:\n",
    "#     ret,frame=image_capture.read()\n",
    "#     gray=cv2.cvtColor(frame,cv2.COLOR_BGR2GRAY)\n",
    "#     out.write(frame)\n",
    "#     \n",
    "#     cv2.imshow('frame',frame)\n",
    "#     cv2.imshow('gray',gray)\n",
    "#     if cv2.waitKey(1) & 0xFF == ord('p'):\n",
    "#         break\n",
    "# image_capture.release()\n",
    "# out.release()\n",
    "# cv2.destroyAllWindows()"
   ]
  },
  {
   "cell_type": "code",
   "execution_count": 6,
   "metadata": {},
   "outputs": [],
   "source": []
  },
  {
   "cell_type": "code",
   "execution_count": null,
   "metadata": {},
   "outputs": [],
   "source": []
  },
  {
   "cell_type": "code",
   "execution_count": null,
   "metadata": {},
   "outputs": [],
   "source": []
  }
 ],
 "metadata": {
  "kernelspec": {
   "display_name": "Python 2",
   "language": "python",
   "name": "python2"
  },
  "language_info": {
   "codemirror_mode": {
    "name": "ipython",
    "version": 2
   },
   "file_extension": ".py",
   "mimetype": "text/x-python",
   "name": "python",
   "nbconvert_exporter": "python",
   "pygments_lexer": "ipython2",
   "version": "2.7.6"
  }
 },
 "nbformat": 4,
 "nbformat_minor": 0
}
